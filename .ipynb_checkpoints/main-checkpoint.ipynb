{
 "cells": [
  {
   "cell_type": "code",
   "execution_count": 59,
   "id": "19f9d220",
   "metadata": {},
   "outputs": [],
   "source": [
    "import pandas as pd\n",
    "import os\n",
    "import numpy as np\n",
    "dir = \"./\""
   ]
  },
  {
   "cell_type": "code",
   "execution_count": 15,
   "id": "9d52d939",
   "metadata": {},
   "outputs": [],
   "source": [
    "# 循环目标路径下所有文件目录及名称\n",
    "def getFiles():\n",
    "    arr = []\n",
    "    for dirpath,dirnames,filenames in os.walk(dir):\n",
    "        for filename in filenames:\n",
    "            if filename.endswith('.xlsx'):\n",
    "                arr.append(filename)\n",
    "    return arr"
   ]
  },
  {
   "cell_type": "code",
   "execution_count": 22,
   "id": "74a352af",
   "metadata": {},
   "outputs": [
    {
     "name": "stdout",
     "output_type": "stream",
     "text": [
      "           日期  单据编号       车牌                                          品名 单位  \\\n",
      "0  2021-03-20   NaN  川K3A465                                       V性推力杆  件   \n",
      "1  2021-03-20   NaN  川K3A465                                          垫圈  只   \n",
      "2  2021-03-20   NaN  川K3A465                                    汽车减震弹簧钢板  片   \n",
      "3  2021-03-20   NaN  川K3A671                                       125阀门  套   \n",
      "4  2021-03-20   NaN  川K3A671                                          垫圈  只   \n",
      "5  2021-03-20   NaN  川K3A671                             轮胎 12.00R20....  条   \n",
      "6  2021-03-20   NaN  川K3A465                                         张紧轮  个   \n",
      "7  2021-03-20   NaN  川K3A465                       柴10KG至尊统一车用尿素-蓝-到岸 尿素  升   \n",
      "8  2021-03-20   NaN  川K3A671                                     防冻液 4KG  桶   \n",
      "9  2021-03-20   NaN  川K3A671                                       125阀门  套   \n",
      "10 2021-03-20   NaN  川K61605                                       出灰接头.  套   \n",
      "11 2021-03-20   NaN  川K67911                                        链条..  根   \n",
      "12 2021-03-20   NaN  川K67911                       柴10KG至尊统一车用尿素-蓝-到岸 尿素  升   \n",
      "13 2021-03-20   NaN  川K72066                                          垫圈  只   \n",
      "14 2021-03-20   NaN  川K72066                                    汽车减震弹簧钢板  片   \n",
      "15 2021-03-20   NaN  川K75256                                        链条..  根   \n",
      "16 2021-03-20   NaN  川K3A530                    潍柴专用柴机油 CI-4/20W-50/4L..  升   \n",
      "17 2021-03-20   NaN  川K3A530                       柴10KG至尊统一车用尿素-蓝-到岸 尿素  升   \n",
      "18 2021-03-21   NaN  川K3A698                                       25铜球阀  只   \n",
      "19 2021-03-21   NaN  川K3A698                                          垫圈  只   \n",
      "20 2021-03-21   NaN  川K61612                                        汽车车身  台   \n",
      "21 2021-03-21   NaN  川K68539                                       V性推力杆  件   \n",
      "22 2021-03-21   NaN  川K72076                                          垫圈  只   \n",
      "23 2021-03-21   NaN  川K75588                                    汽车减震弹簧钢板  片   \n",
      "24 2021-03-21   NaN  川K75588                     潍柴专用柴机油 CH-4/20W-50/18L  升   \n",
      "25 2021-03-21   NaN  川K3A536  10W/40曼动发动机专用润滑油（4L/桶）\\nMQ9-11060-0803+012  升   \n",
      "26 2021-03-21   NaN  川K3A536                       柴10KG至尊统一车用尿素-蓝-到岸 尿素  升   \n",
      "27 2021-03-21   NaN  川K3A920                    潍柴专用柴机油 CI-4/20W-50/4L..  升   \n",
      "28 2021-03-21   NaN  川K3A920                       柴10KG至尊统一车用尿素-蓝-到岸 尿素  升   \n",
      "29 2021-03-21   NaN  川K61612                                          垫圈  只   \n",
      "30 2021-03-21   NaN  川K68812                                         张紧轮  个   \n",
      "31 2021-03-21   NaN  川K72268                       柴10KG至尊统一车用尿素-蓝-到岸 尿素  升   \n",
      "32 2021-03-21   NaN  川K75627                                     防冻液 4KG  桶   \n",
      "\n",
      "    数量       单价       金额  \n",
      "0    2   723.20  1446.40  \n",
      "1    2    16.95    33.90  \n",
      "2    2   226.00   452.00  \n",
      "3    1   293.80   293.80  \n",
      "4    2    16.95    33.90  \n",
      "5    3  2203.50  6610.50  \n",
      "6    1   169.50   169.50  \n",
      "7   20     4.52    90.40  \n",
      "8    4    39.55   158.20  \n",
      "9    1   293.80   293.80  \n",
      "10   1   146.90   146.90  \n",
      "11   1   101.70   101.70  \n",
      "12  10     4.52    45.20  \n",
      "13   1    16.95    16.95  \n",
      "14   2   226.00   452.00  \n",
      "15   1   101.70   101.70  \n",
      "16  24    22.60   542.40  \n",
      "17  10     4.52    45.20  \n",
      "18   1    16.95    16.95  \n",
      "19   1    16.95    16.95  \n",
      "20   1  8814.00  8814.00  \n",
      "21   1   723.20   723.20  \n",
      "22   1    16.95    16.95  \n",
      "23   2   226.00   452.00  \n",
      "24  18    22.60   406.80  \n",
      "25  24    56.50  1356.00  \n",
      "26  10     4.52    45.20  \n",
      "27   4    22.60    90.40  \n",
      "28  20     4.52    90.40  \n",
      "29   2    16.95    33.90  \n",
      "30   1   169.50   169.50  \n",
      "31  20     4.52    90.40  \n",
      "32   3    39.55   118.65  \n"
     ]
    }
   ],
   "source": [
    "df = pd.read_excel('铁马-出库明细 4月.xlsx')\n",
    "\n",
    "print(df)"
   ]
  },
  {
   "cell_type": "code",
   "execution_count": 24,
   "id": "843a0e5e",
   "metadata": {},
   "outputs": [
    {
     "name": "stdout",
     "output_type": "stream",
     "text": [
      "日期\n",
      "单据编号\n",
      "车牌\n",
      "品名\n",
      "单位\n",
      "数量\n",
      "单价\n",
      "金额\n"
     ]
    }
   ],
   "source": [
    "files = getFiles()\n",
    "for file in files:\n",
    "    df = pd.read_excel(file)\n",
    "    for rows in df:\n",
    "        print(rows)"
   ]
  },
  {
   "cell_type": "code",
   "execution_count": 116,
   "id": "b7d45e00",
   "metadata": {},
   "outputs": [
    {
     "name": "stdout",
     "output_type": "stream",
     "text": [
      "{'03/20/2021川K3A465': array([Timestamp('2021-03-20 00:00:00'), nan, '川K3A465', 'V性推力杆', '件', 2,\n",
      "       723.2, 1446.4, '垫圈', '只', 2, 16.95, 33.9, '汽车减震弹簧钢板', '片', 2,\n",
      "       226.0, 452.0, '张紧轮', '个', 1, 169.5, 169.5, '柴10KG至尊统一车用尿素-蓝-到岸 尿素',\n",
      "       '升', 20, 4.52, 90.39999999999999], dtype=object), '03/20/2021川K3A671': array([Timestamp('2021-03-20 00:00:00'), nan, '川K3A671', '125阀门', '套', 1,\n",
      "       293.8, 293.8, '垫圈', '只', 2, 16.95, 33.9, '轮胎 12.00R20....', '条', 3,\n",
      "       2203.5, 6610.5, '防冻液 4KG', '桶', 4, 39.55, 158.2, '125阀门', '套', 1,\n",
      "       293.8, 293.8], dtype=object), '03/20/2021川K61605': array([Timestamp('2021-03-20 00:00:00'), nan, '川K61605', '出灰接头.', '套', 1,\n",
      "       146.9, 146.9], dtype=object), '03/20/2021川K67911': array([Timestamp('2021-03-20 00:00:00'), nan, '川K67911', '链条..', '根', 1,\n",
      "       101.7, 101.7, '柴10KG至尊统一车用尿素-蓝-到岸 尿素', '升', 10, 4.52,\n",
      "       45.199999999999996], dtype=object), '03/20/2021川K72066': array([Timestamp('2021-03-20 00:00:00'), nan, '川K72066', '垫圈', '只', 1,\n",
      "       16.95, 16.95, '汽车减震弹簧钢板', '片', 2, 226.0, 452.0], dtype=object), '03/20/2021川K75256': array([Timestamp('2021-03-20 00:00:00'), nan, '川K75256', '链条..', '根', 1,\n",
      "       101.7, 101.7], dtype=object), '03/20/2021川K3A530': array([Timestamp('2021-03-20 00:00:00'), nan, '川K3A530',\n",
      "       '潍柴专用柴机油 CI-4/20W-50/4L..', '升', 24, 22.6, 542.4000000000001,\n",
      "       '柴10KG至尊统一车用尿素-蓝-到岸 尿素', '升', 10, 4.52, 45.199999999999996],\n",
      "      dtype=object), '03/21/2021川K3A698': array([Timestamp('2021-03-21 00:00:00'), nan, '川K3A698', '25铜球阀', '只', 1,\n",
      "       16.95, 16.95, '垫圈', '只', 1, 16.95, 16.95], dtype=object), '03/21/2021川K61612': array([Timestamp('2021-03-21 00:00:00'), nan, '川K61612', '汽车车身', '台', 1,\n",
      "       8814.0, 8814.0, '垫圈', '只', 2, 16.95, 33.9], dtype=object), '03/21/2021川K68539': array([Timestamp('2021-03-21 00:00:00'), nan, '川K68539', 'V性推力杆', '件', 1,\n",
      "       723.2, 723.2], dtype=object), '03/21/2021川K72076': array([Timestamp('2021-03-21 00:00:00'), nan, '川K72076', '垫圈', '只', 1,\n",
      "       16.95, 16.95], dtype=object), '03/21/2021川K75588': array([Timestamp('2021-03-21 00:00:00'), nan, '川K75588', '汽车减震弹簧钢板', '片',\n",
      "       2, 226.0, 452.0, '潍柴专用柴机油 CH-4/20W-50/18L', '升', 18, 22.6, 406.8],\n",
      "      dtype=object), '03/21/2021川K3A536': array([Timestamp('2021-03-21 00:00:00'), nan, '川K3A536',\n",
      "       '10W/40曼动发动机专用润滑油（4L/桶）\\nMQ9-11060-0803+012', '升', 24, 56.5,\n",
      "       1356.0, '柴10KG至尊统一车用尿素-蓝-到岸 尿素', '升', 10, 4.52, 45.199999999999996],\n",
      "      dtype=object), '03/21/2021川K3A920': array([Timestamp('2021-03-21 00:00:00'), nan, '川K3A920',\n",
      "       '潍柴专用柴机油 CI-4/20W-50/4L..', '升', 4, 22.6, 90.4,\n",
      "       '柴10KG至尊统一车用尿素-蓝-到岸 尿素', '升', 20, 4.52, 90.39999999999999],\n",
      "      dtype=object), '03/21/2021川K68812': array([Timestamp('2021-03-21 00:00:00'), nan, '川K68812', '张紧轮', '个', 1,\n",
      "       169.5, 169.5], dtype=object), '03/21/2021川K72268': array([Timestamp('2021-03-21 00:00:00'), nan, '川K72268',\n",
      "       '柴10KG至尊统一车用尿素-蓝-到岸 尿素', '升', 20, 4.52, 90.39999999999999],\n",
      "      dtype=object), '03/21/2021川K75627': array([Timestamp('2021-03-21 00:00:00'), nan, '川K75627', '防冻液 4KG', '桶',\n",
      "       3, 39.55, 118.64999999999999], dtype=object)}\n"
     ]
    }
   ],
   "source": [
    "columns = df.columns.values.tolist() ### 获取excel 表头 ，第一行\n",
    "\n",
    "allData = {}\n",
    "allDataKeys = []\n",
    "counts = {}\n",
    "\n",
    "duplicates = df.drop_duplicates(['日期','车牌'], keep='first')\n",
    "for idx, row in duplicates.iterrows():\n",
    "    time = row['日期'].strftime(\"%m/%d/%Y\")\n",
    "    key = time + row['车牌']\n",
    "    allData[key] = np.array([])\n",
    "    allDataKeys.append(key)\n",
    "dropedDf = df.drop(columns=['日期','单据编号','车牌'], axis = 1)\n",
    "for idx, row in df.iterrows(): ### 迭代数据 以键值对的形式 获取 每行的数据\n",
    "    time = row['日期'].strftime(\"%m/%d/%Y\")\n",
    "    key = time + row['车牌']\n",
    "    if len(allData[key]) > 0:\n",
    "        counts[key] += 1\n",
    "        allData[key] = np.append(allData[key], dropedDf.values[idx])\n",
    "    else:    \n",
    "        allData[key] = np.append(allData[key], df.values[idx])\n",
    "        counts[key] = 1\n",
    "print(allData)\n",
    "\n",
    "\n"
   ]
  },
  {
   "cell_type": "code",
   "execution_count": 50,
   "id": "b62e3816",
   "metadata": {},
   "outputs": [
    {
     "name": "stdout",
     "output_type": "stream",
     "text": [
      "5\n"
     ]
    },
    {
     "data": {
      "text/plain": [
       "['日期',\n",
       " '单据编号',\n",
       " '车牌',\n",
       " '品名1',\n",
       " '单位1',\n",
       " '数量1',\n",
       " '单价1',\n",
       " '金额1',\n",
       " '品名2',\n",
       " '单位2',\n",
       " '数量2',\n",
       " '单价2',\n",
       " '金额2',\n",
       " '品名3',\n",
       " '单位3',\n",
       " '数量3',\n",
       " '单价3',\n",
       " '金额3',\n",
       " '品名4',\n",
       " '单位4',\n",
       " '数量4',\n",
       " '单价4',\n",
       " '金额4',\n",
       " '品名5',\n",
       " '单位5',\n",
       " '数量5',\n",
       " '单价5',\n",
       " '金额5']"
      ]
     },
     "execution_count": 50,
     "metadata": {},
     "output_type": "execute_result"
    }
   ],
   "source": [
    "new_colums = ['日期',\n",
    "'单据编号',\n",
    "'车牌',]\n",
    "base_columns = ['品名','单位','数量','单价','金额',]\n",
    "maxLen = 0\n",
    "for key in allDataKeys:\n",
    "    length = len(allData[key])\n",
    "    if length > maxLen:\n",
    "        maxLen = length\n",
    "print(maxLen)\n",
    "\n",
    "for i in range(maxLen):\n",
    "    for item in base_columns:\n",
    "        new_colums.append(item + str(i+1))\n",
    "\n"
   ]
  },
  {
   "cell_type": "code",
   "execution_count": 63,
   "id": "eaba29fd",
   "metadata": {},
   "outputs": [
    {
     "name": "stdout",
     "output_type": "stream",
     "text": [
      "Empty DataFrame\n",
      "Columns: [日期, 单据编号, 车牌, 品名1, 单位1, 数量1, 单价1, 金额1, 品名2, 单位2, 数量2, 单价2, 金额2, 品名3, 单位3, 数量3, 单价3, 金额3, 品名4, 单位4, 数量4, 单价4, 金额4, 品名5, 单位5, 数量5, 单价5, 金额5]\n",
      "Index: []\n",
      "\n",
      "[0 rows x 28 columns]\n"
     ]
    }
   ],
   "source": [
    "\n",
    "data = pd.DataFrame([], columns=new_colums)\n",
    "print(data)\n",
    "\n"
   ]
  },
  {
   "cell_type": "code",
   "execution_count": 105,
   "id": "58321bb7",
   "metadata": {},
   "outputs": [
    {
     "data": {
      "text/plain": [
       "array([1, 1, 2, 9, 4, 5, 5, 7, 8])"
      ]
     },
     "execution_count": 105,
     "metadata": {},
     "output_type": "execute_result"
    }
   ],
   "source": [
    "d = np.array([[1, 1, 2],\n",
    "       [9, 4, 5],\n",
    "       [5, 7, 8]])\n",
    "d.flatten()"
   ]
  },
  {
   "cell_type": "code",
   "execution_count": 65,
   "id": "42ce5885",
   "metadata": {},
   "outputs": [
    {
     "data": {
      "text/plain": [
       "[4, 5, 6]"
      ]
     },
     "execution_count": 65,
     "metadata": {},
     "output_type": "execute_result"
    }
   ],
   "source": [
    "c = [1,2,3,4,5,6]\n",
    "c[3:]"
   ]
  },
  {
   "cell_type": "code",
   "execution_count": 82,
   "id": "b3cb0882",
   "metadata": {},
   "outputs": [
    {
     "data": {
      "text/plain": [
       "日期        2021-03-20 00:00:00\n",
       "单据编号                      NaN\n",
       "车牌                    川K3A465\n",
       "品名                      V性推力杆\n",
       "单位                          件\n",
       "数量                          2\n",
       "单价                      723.2\n",
       "金额                     1446.4\n",
       "品名                         垫圈\n",
       "单位                          只\n",
       "数量                          2\n",
       "单价                      16.95\n",
       "金额                       33.9\n",
       "品名                   汽车减震弹簧钢板\n",
       "单位                          片\n",
       "数量                          2\n",
       "单价                      226.0\n",
       "金额                      452.0\n",
       "品名                        张紧轮\n",
       "单位                          个\n",
       "数量                          1\n",
       "单价                      169.5\n",
       "金额                      169.5\n",
       "品名      柴10KG至尊统一车用尿素-蓝-到岸 尿素\n",
       "单位                          升\n",
       "数量                         20\n",
       "单价                       4.52\n",
       "金额                       90.4\n",
       "dtype: object"
      ]
     },
     "execution_count": 82,
     "metadata": {},
     "output_type": "execute_result"
    }
   ],
   "source": [
    "allData['03/20/2021川K3A465']\n",
    "# pd.concat(allData['03/20/2021川K3A465'], axis=0)\n",
    "for "
   ]
  },
  {
   "cell_type": "code",
   "execution_count": 118,
   "id": "9131ce84",
   "metadata": {},
   "outputs": [
    {
     "name": "stdout",
     "output_type": "stream",
     "text": [
      "[Timestamp('2021-03-20 00:00:00') nan '川K3A465' 'V性推力杆' '件' 2 723.2 1446.4\n",
      " '垫圈' '只' 2 16.95 33.9 '汽车减震弹簧钢板' '片' 2 226.0 452.0 '张紧轮' '个' 1 169.5\n",
      " 169.5 '柴10KG至尊统一车用尿素-蓝-到岸 尿素' '升' 20 4.52 90.39999999999999]\n"
     ]
    },
    {
     "name": "stderr",
     "output_type": "stream",
     "text": [
      "C:\\Users\\miaoy\\AppData\\Local\\Temp\\ipykernel_16848\\3465245143.py:5: FutureWarning: The frame.append method is deprecated and will be removed from pandas in a future version. Use pandas.concat instead.\n",
      "  data.append(newRow, ignore_index=True)\n"
     ]
    },
    {
     "ename": "TypeError",
     "evalue": "cannot concatenate object of type '<class 'numpy.ndarray'>'; only Series and DataFrame objs are valid",
     "output_type": "error",
     "traceback": [
      "\u001b[1;31m---------------------------------------------------------------------------\u001b[0m",
      "\u001b[1;31mTypeError\u001b[0m                                 Traceback (most recent call last)",
      "\u001b[1;32m~\\AppData\\Local\\Temp\\ipykernel_16848\\3465245143.py\u001b[0m in \u001b[0;36m<module>\u001b[1;34m\u001b[0m\n\u001b[0;32m      3\u001b[0m     \u001b[0mnewRow\u001b[0m \u001b[1;33m=\u001b[0m \u001b[0mnp\u001b[0m\u001b[1;33m.\u001b[0m\u001b[0marray\u001b[0m\u001b[1;33m(\u001b[0m\u001b[0mv\u001b[0m\u001b[1;33m)\u001b[0m\u001b[1;33m.\u001b[0m\u001b[0mflatten\u001b[0m\u001b[1;33m(\u001b[0m\u001b[1;33m)\u001b[0m\u001b[1;33m\u001b[0m\u001b[1;33m\u001b[0m\u001b[0m\n\u001b[0;32m      4\u001b[0m     \u001b[0mprint\u001b[0m\u001b[1;33m(\u001b[0m\u001b[0mnewRow\u001b[0m\u001b[1;33m)\u001b[0m\u001b[1;33m\u001b[0m\u001b[1;33m\u001b[0m\u001b[0m\n\u001b[1;32m----> 5\u001b[1;33m     \u001b[0mdata\u001b[0m\u001b[1;33m.\u001b[0m\u001b[0mappend\u001b[0m\u001b[1;33m(\u001b[0m\u001b[0mnewRow\u001b[0m\u001b[1;33m,\u001b[0m \u001b[0mignore_index\u001b[0m\u001b[1;33m=\u001b[0m\u001b[1;32mTrue\u001b[0m\u001b[1;33m)\u001b[0m\u001b[1;33m\u001b[0m\u001b[1;33m\u001b[0m\u001b[0m\n\u001b[0m\u001b[0;32m      6\u001b[0m \u001b[0mprint\u001b[0m\u001b[1;33m(\u001b[0m\u001b[0mdata\u001b[0m\u001b[1;33m)\u001b[0m\u001b[1;33m\u001b[0m\u001b[1;33m\u001b[0m\u001b[0m\n",
      "\u001b[1;32md:\\Users\\miaoy\\anaconda3\\lib\\site-packages\\pandas\\core\\frame.py\u001b[0m in \u001b[0;36mappend\u001b[1;34m(self, other, ignore_index, verify_integrity, sort)\u001b[0m\n\u001b[0;32m   9046\u001b[0m         )\n\u001b[0;32m   9047\u001b[0m \u001b[1;33m\u001b[0m\u001b[0m\n\u001b[1;32m-> 9048\u001b[1;33m         \u001b[1;32mreturn\u001b[0m \u001b[0mself\u001b[0m\u001b[1;33m.\u001b[0m\u001b[0m_append\u001b[0m\u001b[1;33m(\u001b[0m\u001b[0mother\u001b[0m\u001b[1;33m,\u001b[0m \u001b[0mignore_index\u001b[0m\u001b[1;33m,\u001b[0m \u001b[0mverify_integrity\u001b[0m\u001b[1;33m,\u001b[0m \u001b[0msort\u001b[0m\u001b[1;33m)\u001b[0m\u001b[1;33m\u001b[0m\u001b[1;33m\u001b[0m\u001b[0m\n\u001b[0m\u001b[0;32m   9049\u001b[0m \u001b[1;33m\u001b[0m\u001b[0m\n\u001b[0;32m   9050\u001b[0m     def _append(\n",
      "\u001b[1;32md:\\Users\\miaoy\\anaconda3\\lib\\site-packages\\pandas\\core\\frame.py\u001b[0m in \u001b[0;36m_append\u001b[1;34m(self, other, ignore_index, verify_integrity, sort)\u001b[0m\n\u001b[0;32m   9089\u001b[0m             \u001b[0mto_concat\u001b[0m \u001b[1;33m=\u001b[0m \u001b[1;33m[\u001b[0m\u001b[0mself\u001b[0m\u001b[1;33m,\u001b[0m \u001b[0mother\u001b[0m\u001b[1;33m]\u001b[0m\u001b[1;33m\u001b[0m\u001b[1;33m\u001b[0m\u001b[0m\n\u001b[0;32m   9090\u001b[0m \u001b[1;33m\u001b[0m\u001b[0m\n\u001b[1;32m-> 9091\u001b[1;33m         result = concat(\n\u001b[0m\u001b[0;32m   9092\u001b[0m             \u001b[0mto_concat\u001b[0m\u001b[1;33m,\u001b[0m\u001b[1;33m\u001b[0m\u001b[1;33m\u001b[0m\u001b[0m\n\u001b[0;32m   9093\u001b[0m             \u001b[0mignore_index\u001b[0m\u001b[1;33m=\u001b[0m\u001b[0mignore_index\u001b[0m\u001b[1;33m,\u001b[0m\u001b[1;33m\u001b[0m\u001b[1;33m\u001b[0m\u001b[0m\n",
      "\u001b[1;32md:\\Users\\miaoy\\anaconda3\\lib\\site-packages\\pandas\\util\\_decorators.py\u001b[0m in \u001b[0;36mwrapper\u001b[1;34m(*args, **kwargs)\u001b[0m\n\u001b[0;32m    309\u001b[0m                     \u001b[0mstacklevel\u001b[0m\u001b[1;33m=\u001b[0m\u001b[0mstacklevel\u001b[0m\u001b[1;33m,\u001b[0m\u001b[1;33m\u001b[0m\u001b[1;33m\u001b[0m\u001b[0m\n\u001b[0;32m    310\u001b[0m                 )\n\u001b[1;32m--> 311\u001b[1;33m             \u001b[1;32mreturn\u001b[0m \u001b[0mfunc\u001b[0m\u001b[1;33m(\u001b[0m\u001b[1;33m*\u001b[0m\u001b[0margs\u001b[0m\u001b[1;33m,\u001b[0m \u001b[1;33m**\u001b[0m\u001b[0mkwargs\u001b[0m\u001b[1;33m)\u001b[0m\u001b[1;33m\u001b[0m\u001b[1;33m\u001b[0m\u001b[0m\n\u001b[0m\u001b[0;32m    312\u001b[0m \u001b[1;33m\u001b[0m\u001b[0m\n\u001b[0;32m    313\u001b[0m         \u001b[1;32mreturn\u001b[0m \u001b[0mwrapper\u001b[0m\u001b[1;33m\u001b[0m\u001b[1;33m\u001b[0m\u001b[0m\n",
      "\u001b[1;32md:\\Users\\miaoy\\anaconda3\\lib\\site-packages\\pandas\\core\\reshape\\concat.py\u001b[0m in \u001b[0;36mconcat\u001b[1;34m(objs, axis, join, ignore_index, keys, levels, names, verify_integrity, sort, copy)\u001b[0m\n\u001b[0;32m    345\u001b[0m     \u001b[0mValueError\u001b[0m\u001b[1;33m:\u001b[0m \u001b[0mIndexes\u001b[0m \u001b[0mhave\u001b[0m \u001b[0moverlapping\u001b[0m \u001b[0mvalues\u001b[0m\u001b[1;33m:\u001b[0m \u001b[1;33m[\u001b[0m\u001b[1;34m'a'\u001b[0m\u001b[1;33m]\u001b[0m\u001b[1;33m\u001b[0m\u001b[1;33m\u001b[0m\u001b[0m\n\u001b[0;32m    346\u001b[0m     \"\"\"\n\u001b[1;32m--> 347\u001b[1;33m     op = _Concatenator(\n\u001b[0m\u001b[0;32m    348\u001b[0m         \u001b[0mobjs\u001b[0m\u001b[1;33m,\u001b[0m\u001b[1;33m\u001b[0m\u001b[1;33m\u001b[0m\u001b[0m\n\u001b[0;32m    349\u001b[0m         \u001b[0maxis\u001b[0m\u001b[1;33m=\u001b[0m\u001b[0maxis\u001b[0m\u001b[1;33m,\u001b[0m\u001b[1;33m\u001b[0m\u001b[1;33m\u001b[0m\u001b[0m\n",
      "\u001b[1;32md:\\Users\\miaoy\\anaconda3\\lib\\site-packages\\pandas\\core\\reshape\\concat.py\u001b[0m in \u001b[0;36m__init__\u001b[1;34m(self, objs, axis, join, keys, levels, names, ignore_index, verify_integrity, copy, sort)\u001b[0m\n\u001b[0;32m    435\u001b[0m                     \u001b[1;34m\"only Series and DataFrame objs are valid\"\u001b[0m\u001b[1;33m\u001b[0m\u001b[1;33m\u001b[0m\u001b[0m\n\u001b[0;32m    436\u001b[0m                 )\n\u001b[1;32m--> 437\u001b[1;33m                 \u001b[1;32mraise\u001b[0m \u001b[0mTypeError\u001b[0m\u001b[1;33m(\u001b[0m\u001b[0mmsg\u001b[0m\u001b[1;33m)\u001b[0m\u001b[1;33m\u001b[0m\u001b[1;33m\u001b[0m\u001b[0m\n\u001b[0m\u001b[0;32m    438\u001b[0m \u001b[1;33m\u001b[0m\u001b[0m\n\u001b[0;32m    439\u001b[0m             \u001b[0mndims\u001b[0m\u001b[1;33m.\u001b[0m\u001b[0madd\u001b[0m\u001b[1;33m(\u001b[0m\u001b[0mobj\u001b[0m\u001b[1;33m.\u001b[0m\u001b[0mndim\u001b[0m\u001b[1;33m)\u001b[0m\u001b[1;33m\u001b[0m\u001b[1;33m\u001b[0m\u001b[0m\n",
      "\u001b[1;31mTypeError\u001b[0m: cannot concatenate object of type '<class 'numpy.ndarray'>'; only Series and DataFrame objs are valid"
     ]
    }
   ],
   "source": [
    "data = pd.DataFrame([])\n",
    "for k, v in allData.items():\n",
    "    newRow = np.array(v).flatten()\n",
    "    print(newRow)\n",
    "#     data.append(newRow, ignore_index=True)\n",
    "# print(data)"
   ]
  },
  {
   "cell_type": "code",
   "execution_count": null,
   "id": "e128d0f1",
   "metadata": {},
   "outputs": [],
   "source": []
  }
 ],
 "metadata": {
  "kernelspec": {
   "display_name": "Python 3 (ipykernel)",
   "language": "python",
   "name": "python3"
  },
  "language_info": {
   "codemirror_mode": {
    "name": "ipython",
    "version": 3
   },
   "file_extension": ".py",
   "mimetype": "text/x-python",
   "name": "python",
   "nbconvert_exporter": "python",
   "pygments_lexer": "ipython3",
   "version": "3.9.13"
  }
 },
 "nbformat": 4,
 "nbformat_minor": 5
}
