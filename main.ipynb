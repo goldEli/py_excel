{
 "cells": [
  {
   "cell_type": "code",
   "execution_count": 160,
   "id": "43abda92",
   "metadata": {},
   "outputs": [],
   "source": [
    "import pandas as pd\n",
    "import os\n",
    "import numpy as np\n",
    "rootDir = \"./\""
   ]
  },
  {
   "cell_type": "code",
   "execution_count": 169,
   "id": "81a1180f",
   "metadata": {},
   "outputs": [],
   "source": [
    "# 循环目标路径下所有文件目录及名称\n",
    "def getFiles():\n",
    "    arr = []\n",
    "    for dirpath,dirnames,filenames in os.walk(dir):\n",
    "        for filename in filenames:\n",
    "            if filename.endswith('.xlsx'):\n",
    "                arr.append(filename)\n",
    "    return arr"
   ]
  },
  {
   "cell_type": "code",
   "execution_count": 182,
   "id": "ef93b502",
   "metadata": {},
   "outputs": [],
   "source": [
    "# read excel\n",
    "def readExcel(filename):\n",
    "    path = os.path.join('./', filename)\n",
    "    return pd.read_excel(path)"
   ]
  },
  {
   "cell_type": "code",
   "execution_count": 199,
   "id": "e4841394",
   "metadata": {},
   "outputs": [],
   "source": [
    "# hande framedata\n",
    "def handleFrameData(df):\n",
    "    allData = {}\n",
    "    allDataKeys = []\n",
    "    counts = {}\n",
    "    formatTime = \"%Y/%d/%m/\"\n",
    "    duplicates = df.drop_duplicates(['日期','车牌'], keep='first')\n",
    "    for idx, row in duplicates.iterrows():\n",
    "        time = row['日期'].strftime(formatTime)\n",
    "        row['日期'] = row['日期'].strftime(formatTime)\n",
    "        key = time + row['车牌']\n",
    "        allData[key] = np.array([])\n",
    "        allDataKeys.append(key)\n",
    "    dropedDf = df.drop(columns=['日期','单据编号','车牌'], axis = 1)\n",
    "    for idx, row in df.iterrows(): ### 迭代数据 以键值对的形式 获取 每行的数据\n",
    "        time = row['日期'].strftime(formatTime)\n",
    "        row['日期'] = row['日期'].strftime(formatTime)\n",
    "        key = time + row['车牌']\n",
    "        if len(allData[key]) > 0:\n",
    "            counts[key] += 1\n",
    "            allData[key] = np.append(allData[key], dropedDf.values[idx])\n",
    "        else:    \n",
    "            allData[key] = np.append(allData[key], df.values[idx])\n",
    "            counts[key] = 1\n",
    "    \n",
    "    return allData, counts\n",
    "\n",
    " \n",
    "def mkdir(path):\n",
    "\n",
    "    folder = os.path.exists(path)\n",
    "\n",
    "    if not folder:                   #判断是否存在文件夹如果不存在则创建为文件夹\n",
    "        os.makedirs(path)            #makedirs 创建文件时如果路径不存在会创建这个路径\n",
    "\n",
    "    else:\n",
    "        print(\"---  There is this folder!  ---\")\n",
    "\n",
    "def writeToExcel(df, filename):\n",
    "    mkdir('./result')\n",
    "    path = os.path.join('./result', filename)\n",
    "    print('生成路径为：'+path)\n",
    "    df.to_excel(path)\n",
    "\n",
    "def createNewDf(allData, new_colums):\n",
    "    arr = []\n",
    "    max_items_num = 0\n",
    "    for k, v in allData.items():\n",
    "        newRow = np.array(v).flatten()\n",
    "        arr.append(newRow.tolist())\n",
    "    \n",
    "    return pd.DataFrame(arr, columns=new_colums).fillna('')\n",
    "    \n",
    "\n",
    "def getColumns(df):\n",
    "    return df.columns.values.tolist() ### 获取excel 表头 ，第一行\n",
    "\n",
    "def getNewColumns(df, counts):\n",
    "    new_colums = ['日期','单据编号','车牌',]\n",
    "    base_columns = ['品名','单位','数量','单价','金额',]\n",
    "    maxLen = 0\n",
    "    for key, v in counts.items():\n",
    "        if v > maxLen:\n",
    "            maxLen = v\n",
    "\n",
    "    for i in range(maxLen):\n",
    "        for item in base_columns:\n",
    "            new_colums.append(item + str(i+1))\n",
    "    return new_colums\n"
   ]
  },
  {
   "cell_type": "code",
   "execution_count": 200,
   "id": "dae0e184",
   "metadata": {
    "scrolled": true
   },
   "outputs": [
    {
     "name": "stdout",
     "output_type": "stream",
     "text": [
      "正在处理文件： 铁马-出库明细 4月 - 副本.xlsx\n",
      "---  There is this folder!  ---\n",
      "生成路径为：./result\\铁马-出库明细 4月 - 副本.xlsx\n",
      "成功\n"
     ]
    }
   ],
   "source": [
    "files = getFiles()\n",
    "for filename in files:\n",
    "    print('正在处理文件：',filename)\n",
    "    df = readExcel(filename)\n",
    "    allData, counts = handleFrameData(df)\n",
    "    new_columns = getNewColumns(df, counts)\n",
    "    newDf = createNewDf(allData, new_colums)\n",
    "    writeToExcel(newDf, filename)\n",
    "    print('成功')\n",
    "    \n",
    "    "
   ]
  },
  {
   "cell_type": "code",
   "execution_count": 155,
   "id": "8457b434",
   "metadata": {},
   "outputs": [
    {
     "name": "stdout",
     "output_type": "stream",
     "text": [
      "{'2021/20/03/川K3A465': 5, '2021/20/03/川K3A671': 5, '2021/20/03/川K61605': 1, '2021/20/03/川K67911': 2, '2021/20/03/川K72066': 2, '2021/20/03/川K75256': 1, '2021/20/03/川K3A530': 2, '2021/21/03/川K3A698': 2, '2021/21/03/川K61612': 2, '2021/21/03/川K68539': 1, '2021/21/03/川K72076': 1, '2021/21/03/川K75588': 2, '2021/21/03/川K3A536': 2, '2021/21/03/川K3A920': 2, '2021/21/03/川K68812': 1, '2021/21/03/川K72268': 1, '2021/21/03/川K75627': 1}\n"
     ]
    }
   ],
   "source": [
    "columns = df.columns.values.tolist() ### 获取excel 表头 ，第一行\n",
    "\n",
    "allData = {}\n",
    "allDataKeys = []\n",
    "counts = {}\n",
    "formatTime = \"%Y/%d/%m/\"\n",
    "duplicates = df.drop_duplicates(['日期','车牌'], keep='first')\n",
    "for idx, row in duplicates.iterrows():\n",
    "    time = row['日期'].strftime(formatTime)\n",
    "    row['日期'] = row['日期'].strftime(formatTime)\n",
    "    key = time + row['车牌']\n",
    "    allData[key] = np.array([])\n",
    "    allDataKeys.append(key)\n",
    "dropedDf = df.drop(columns=['日期','单据编号','车牌'], axis = 1)\n",
    "for idx, row in df.iterrows(): ### 迭代数据 以键值对的形式 获取 每行的数据\n",
    "    time = row['日期'].strftime(formatTime)\n",
    "    row['日期'] = row['日期'].strftime(formatTime)\n",
    "    key = time + row['车牌']\n",
    "    if len(allData[key]) > 0:\n",
    "        counts[key] += 1\n",
    "        allData[key] = np.append(allData[key], dropedDf.values[idx])\n",
    "    else:    \n",
    "        allData[key] = np.append(allData[key], df.values[idx])\n",
    "        counts[key] = 1\n",
    "\n",
    "\n"
   ]
  },
  {
   "cell_type": "code",
   "execution_count": 123,
   "id": "5c47898d",
   "metadata": {},
   "outputs": [
    {
     "name": "stdout",
     "output_type": "stream",
     "text": [
      "5\n"
     ]
    }
   ],
   "source": [
    "new_colums = ['日期',\n",
    "'单据编号',\n",
    "'车牌',]\n",
    "base_columns = ['品名','单位','数量','单价','金额',]\n",
    "maxLen = 0\n",
    "for key, v in counts.items():\n",
    "    if v > maxLen:\n",
    "        maxLen = v\n",
    "print(maxLen)\n",
    "\n",
    "for i in range(maxLen):\n",
    "    for item in base_columns:\n",
    "        new_colums.append(item + str(i+1))\n",
    "\n"
   ]
  },
  {
   "cell_type": "code",
   "execution_count": 124,
   "id": "6a02801d",
   "metadata": {},
   "outputs": [
    {
     "name": "stdout",
     "output_type": "stream",
     "text": [
      "Empty DataFrame\n",
      "Columns: [日期, 单据编号, 车牌, 品名1, 单位1, 数量1, 单价1, 金额1, 品名2, 单位2, 数量2, 单价2, 金额2, 品名3, 单位3, 数量3, 单价3, 金额3, 品名4, 单位4, 数量4, 单价4, 金额4, 品名5, 单位5, 数量5, 单价5, 金额5]\n",
      "Index: []\n",
      "\n",
      "[0 rows x 28 columns]\n"
     ]
    }
   ],
   "source": [
    "\n",
    "data = pd.DataFrame([], columns=new_colums)\n",
    "print(data)\n",
    "\n"
   ]
  },
  {
   "cell_type": "code",
   "execution_count": 158,
   "id": "41a2916d",
   "metadata": {},
   "outputs": [],
   "source": [
    "arr = []\n",
    "max_items_num = 0\n",
    "for k, v in allData.items():\n",
    "    newRow = np.array(v).flatten()\n",
    "    arr.append(newRow.tolist())\n",
    "#     print(len(newRow))\n",
    "#     array = np.append(array, newRow)\n",
    "#     data.append(newRow, ignore_index=True)\n",
    "\n",
    "# np.array([[1,2,3],[4,5,7]])\n",
    "data = pd.DataFrame(arr, columns=new_colums)\n",
    "data.fillna('').to_excel(\"output.xlsx\") \n",
    "# data\n",
    "# len(new_colums)\n",
    "# print(data, array)\n",
    "# print(array)\n",
    "# data"
   ]
  },
  {
   "cell_type": "code",
   "execution_count": null,
   "id": "c70625e2",
   "metadata": {},
   "outputs": [],
   "source": []
  }
 ],
 "metadata": {
  "kernelspec": {
   "display_name": "Python 3 (ipykernel)",
   "language": "python",
   "name": "python3"
  },
  "language_info": {
   "codemirror_mode": {
    "name": "ipython",
    "version": 3
   },
   "file_extension": ".py",
   "mimetype": "text/x-python",
   "name": "python",
   "nbconvert_exporter": "python",
   "pygments_lexer": "ipython3",
   "version": "3.9.13"
  }
 },
 "nbformat": 4,
 "nbformat_minor": 5
}
