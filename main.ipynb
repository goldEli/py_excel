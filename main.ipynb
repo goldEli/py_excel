{
 "cells": [
  {
   "cell_type": "code",
   "execution_count": 160,
   "id": "5f398c42",
   "metadata": {},
   "outputs": [],
   "source": [
    "import pandas as pd\n",
    "import os\n",
    "import numpy as np\n",
    "rootDir = \"./\""
   ]
  },
  {
   "cell_type": "code",
   "execution_count": 202,
   "id": "23500d14",
   "metadata": {},
   "outputs": [],
   "source": [
    "# 循环目标路径下所有文件目录及名称\n",
    "def getFiles():\n",
    "    arr = []\n",
    "    for dirpath,dirnames,filenames in os.listdir(dir):\n",
    "        for filename in filenames:\n",
    "            if filename.endswith('.xlsx'):\n",
    "                arr.append(filename)\n",
    "    return arr"
   ]
  },
  {
   "cell_type": "code",
   "execution_count": 203,
   "id": "54ecbc16",
   "metadata": {},
   "outputs": [],
   "source": [
    "# read excel\n",
    "def readExcel(filename):\n",
    "    path = os.path.join('./', filename)\n",
    "    return pd.read_excel(path)"
   ]
  },
  {
   "cell_type": "code",
   "execution_count": 204,
   "id": "617c3f6b",
   "metadata": {},
   "outputs": [],
   "source": [
    "# hande framedata\n",
    "def handleFrameData(df):\n",
    "    allData = {}\n",
    "    allDataKeys = []\n",
    "    counts = {}\n",
    "    formatTime = \"%Y/%d/%m/\"\n",
    "    duplicates = df.drop_duplicates(['日期','车牌'], keep='first')\n",
    "    for idx, row in duplicates.iterrows():\n",
    "        time = row['日期'].strftime(formatTime)\n",
    "        row['日期'] = row['日期'].strftime(formatTime)\n",
    "        key = time + row['车牌']\n",
    "        allData[key] = np.array([])\n",
    "        allDataKeys.append(key)\n",
    "    dropedDf = df.drop(columns=['日期','单据编号','车牌'], axis = 1)\n",
    "    for idx, row in df.iterrows(): ### 迭代数据 以键值对的形式 获取 每行的数据\n",
    "        time = row['日期'].strftime(formatTime)\n",
    "        row['日期'] = row['日期'].strftime(formatTime)\n",
    "        key = time + row['车牌']\n",
    "        if len(allData[key]) > 0:\n",
    "            counts[key] += 1\n",
    "            allData[key] = np.append(allData[key], dropedDf.values[idx])\n",
    "        else:    \n",
    "            allData[key] = np.append(allData[key], df.values[idx])\n",
    "            counts[key] = 1\n",
    "    \n",
    "    return allData, counts\n",
    "\n",
    " \n",
    "def mkdir(path):\n",
    "\n",
    "    folder = os.path.exists(path)\n",
    "\n",
    "    if not folder:                   #判断是否存在文件夹如果不存在则创建为文件夹\n",
    "        os.makedirs(path)            #makedirs 创建文件时如果路径不存在会创建这个路径\n",
    "\n",
    "    else:\n",
    "        print(\"---  There is this folder!  ---\")\n",
    "\n",
    "def writeToExcel(df, filename):\n",
    "    mkdir('./result')\n",
    "    path = os.path.join('./result', filename)\n",
    "    print('生成路径为：'+path)\n",
    "    df.to_excel(path)\n",
    "\n",
    "def createNewDf(allData, new_colums):\n",
    "    arr = []\n",
    "    max_items_num = 0\n",
    "    for k, v in allData.items():\n",
    "        newRow = np.array(v).flatten()\n",
    "        arr.append(newRow.tolist())\n",
    "    \n",
    "    return pd.DataFrame(arr, columns=new_colums).fillna('')\n",
    "    \n",
    "\n",
    "def getColumns(df):\n",
    "    return df.columns.values.tolist() ### 获取excel 表头 ，第一行\n",
    "\n",
    "def getNewColumns(df, counts):\n",
    "    new_colums = ['日期','单据编号','车牌',]\n",
    "    base_columns = ['品名','单位','数量','单价','金额',]\n",
    "    maxLen = 0\n",
    "    for key, v in counts.items():\n",
    "        if v > maxLen:\n",
    "            maxLen = v\n",
    "\n",
    "    for i in range(maxLen):\n",
    "        for item in base_columns:\n",
    "            new_colums.append(item + str(i+1))\n",
    "    return new_colums\n"
   ]
  },
  {
   "cell_type": "code",
   "execution_count": 206,
   "id": "abe80127",
   "metadata": {
    "scrolled": true
   },
   "outputs": [
    {
     "ename": "ValueError",
     "evalue": "too many values to unpack (expected 3)",
     "output_type": "error",
     "traceback": [
      "\u001b[1;31m---------------------------------------------------------------------------\u001b[0m",
      "\u001b[1;31mValueError\u001b[0m                                Traceback (most recent call last)",
      "\u001b[1;32m~\\AppData\\Local\\Temp\\ipykernel_16848\\4283060068.py\u001b[0m in \u001b[0;36m<module>\u001b[1;34m\u001b[0m\n\u001b[1;32m----> 1\u001b[1;33m \u001b[0mfiles\u001b[0m \u001b[1;33m=\u001b[0m \u001b[0mgetFiles\u001b[0m\u001b[1;33m(\u001b[0m\u001b[1;33m)\u001b[0m\u001b[1;33m\u001b[0m\u001b[1;33m\u001b[0m\u001b[0m\n\u001b[0m\u001b[0;32m      2\u001b[0m \u001b[1;32mfor\u001b[0m \u001b[0mfilename\u001b[0m \u001b[1;32min\u001b[0m \u001b[0mfiles\u001b[0m\u001b[1;33m:\u001b[0m\u001b[1;33m\u001b[0m\u001b[1;33m\u001b[0m\u001b[0m\n\u001b[0;32m      3\u001b[0m     \u001b[0mprint\u001b[0m\u001b[1;33m(\u001b[0m\u001b[1;34m'正在处理文件：'\u001b[0m\u001b[1;33m,\u001b[0m\u001b[0mfilename\u001b[0m\u001b[1;33m)\u001b[0m\u001b[1;33m\u001b[0m\u001b[1;33m\u001b[0m\u001b[0m\n\u001b[0;32m      4\u001b[0m \u001b[1;31m#     df = readExcel(filename)\u001b[0m\u001b[1;33m\u001b[0m\u001b[1;33m\u001b[0m\u001b[0m\n\u001b[0;32m      5\u001b[0m \u001b[1;31m#     allData, counts = handleFrameData(df)\u001b[0m\u001b[1;33m\u001b[0m\u001b[1;33m\u001b[0m\u001b[0m\n",
      "\u001b[1;32m~\\AppData\\Local\\Temp\\ipykernel_16848\\1328192601.py\u001b[0m in \u001b[0;36mgetFiles\u001b[1;34m()\u001b[0m\n\u001b[0;32m      2\u001b[0m \u001b[1;32mdef\u001b[0m \u001b[0mgetFiles\u001b[0m\u001b[1;33m(\u001b[0m\u001b[1;33m)\u001b[0m\u001b[1;33m:\u001b[0m\u001b[1;33m\u001b[0m\u001b[1;33m\u001b[0m\u001b[0m\n\u001b[0;32m      3\u001b[0m     \u001b[0marr\u001b[0m \u001b[1;33m=\u001b[0m \u001b[1;33m[\u001b[0m\u001b[1;33m]\u001b[0m\u001b[1;33m\u001b[0m\u001b[1;33m\u001b[0m\u001b[0m\n\u001b[1;32m----> 4\u001b[1;33m     \u001b[1;32mfor\u001b[0m \u001b[0mdirpath\u001b[0m\u001b[1;33m,\u001b[0m\u001b[0mdirnames\u001b[0m\u001b[1;33m,\u001b[0m\u001b[0mfilenames\u001b[0m \u001b[1;32min\u001b[0m \u001b[0mos\u001b[0m\u001b[1;33m.\u001b[0m\u001b[0mlistdir\u001b[0m\u001b[1;33m(\u001b[0m\u001b[0mdir\u001b[0m\u001b[1;33m)\u001b[0m\u001b[1;33m:\u001b[0m\u001b[1;33m\u001b[0m\u001b[1;33m\u001b[0m\u001b[0m\n\u001b[0m\u001b[0;32m      5\u001b[0m         \u001b[1;32mfor\u001b[0m \u001b[0mfilename\u001b[0m \u001b[1;32min\u001b[0m \u001b[0mfilenames\u001b[0m\u001b[1;33m:\u001b[0m\u001b[1;33m\u001b[0m\u001b[1;33m\u001b[0m\u001b[0m\n\u001b[0;32m      6\u001b[0m             \u001b[1;32mif\u001b[0m \u001b[0mfilename\u001b[0m\u001b[1;33m.\u001b[0m\u001b[0mendswith\u001b[0m\u001b[1;33m(\u001b[0m\u001b[1;34m'.xlsx'\u001b[0m\u001b[1;33m)\u001b[0m\u001b[1;33m:\u001b[0m\u001b[1;33m\u001b[0m\u001b[1;33m\u001b[0m\u001b[0m\n",
      "\u001b[1;31mValueError\u001b[0m: too many values to unpack (expected 3)"
     ]
    }
   ],
   "source": [
    "files = getFiles()\n",
    "for filename in files:\n",
    "    print('正在处理文件：',filename)\n",
    "#     df = readExcel(filename)\n",
    "#     allData, counts = handleFrameData(df)\n",
    "#     new_columns = getNewColumns(df, counts)\n",
    "#     newDf = createNewDf(allData, new_colums)\n",
    "#     writeToExcel(newDf, filename)\n",
    "#     print('成功')\n",
    "    \n",
    "    "
   ]
  },
  {
   "cell_type": "code",
   "execution_count": null,
   "id": "4da65c7b",
   "metadata": {},
   "outputs": [],
   "source": []
  }
 ],
 "metadata": {
  "kernelspec": {
   "display_name": "Python 3 (ipykernel)",
   "language": "python",
   "name": "python3"
  },
  "language_info": {
   "codemirror_mode": {
    "name": "ipython",
    "version": 3
   },
   "file_extension": ".py",
   "mimetype": "text/x-python",
   "name": "python",
   "nbconvert_exporter": "python",
   "pygments_lexer": "ipython3",
   "version": "3.9.13"
  }
 },
 "nbformat": 4,
 "nbformat_minor": 5
}
