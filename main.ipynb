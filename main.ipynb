{
 "cells": [
  {
   "cell_type": "code",
   "execution_count": 59,
   "id": "8c23bb93",
   "metadata": {},
   "outputs": [],
   "source": [
    "import pandas as pd\n",
    "import os\n",
    "import numpy as np\n",
    "dir = \"./\""
   ]
  },
  {
   "cell_type": "code",
   "execution_count": 15,
   "id": "a34383d8",
   "metadata": {},
   "outputs": [],
   "source": [
    "# 循环目标路径下所有文件目录及名称\n",
    "def getFiles():\n",
    "    arr = []\n",
    "    for dirpath,dirnames,filenames in os.walk(dir):\n",
    "        for filename in filenames:\n",
    "            if filename.endswith('.xlsx'):\n",
    "                arr.append(filename)\n",
    "    return arr"
   ]
  },
  {
   "cell_type": "code",
   "execution_count": 22,
   "id": "673a6c5f",
   "metadata": {},
   "outputs": [
    {
     "name": "stdout",
     "output_type": "stream",
     "text": [
      "           日期  单据编号       车牌                                          品名 单位  \\\n",
      "0  2021-03-20   NaN  川K3A465                                       V性推力杆  件   \n",
      "1  2021-03-20   NaN  川K3A465                                          垫圈  只   \n",
      "2  2021-03-20   NaN  川K3A465                                    汽车减震弹簧钢板  片   \n",
      "3  2021-03-20   NaN  川K3A671                                       125阀门  套   \n",
      "4  2021-03-20   NaN  川K3A671                                          垫圈  只   \n",
      "5  2021-03-20   NaN  川K3A671                             轮胎 12.00R20....  条   \n",
      "6  2021-03-20   NaN  川K3A465                                         张紧轮  个   \n",
      "7  2021-03-20   NaN  川K3A465                       柴10KG至尊统一车用尿素-蓝-到岸 尿素  升   \n",
      "8  2021-03-20   NaN  川K3A671                                     防冻液 4KG  桶   \n",
      "9  2021-03-20   NaN  川K3A671                                       125阀门  套   \n",
      "10 2021-03-20   NaN  川K61605                                       出灰接头.  套   \n",
      "11 2021-03-20   NaN  川K67911                                        链条..  根   \n",
      "12 2021-03-20   NaN  川K67911                       柴10KG至尊统一车用尿素-蓝-到岸 尿素  升   \n",
      "13 2021-03-20   NaN  川K72066                                          垫圈  只   \n",
      "14 2021-03-20   NaN  川K72066                                    汽车减震弹簧钢板  片   \n",
      "15 2021-03-20   NaN  川K75256                                        链条..  根   \n",
      "16 2021-03-20   NaN  川K3A530                    潍柴专用柴机油 CI-4/20W-50/4L..  升   \n",
      "17 2021-03-20   NaN  川K3A530                       柴10KG至尊统一车用尿素-蓝-到岸 尿素  升   \n",
      "18 2021-03-21   NaN  川K3A698                                       25铜球阀  只   \n",
      "19 2021-03-21   NaN  川K3A698                                          垫圈  只   \n",
      "20 2021-03-21   NaN  川K61612                                        汽车车身  台   \n",
      "21 2021-03-21   NaN  川K68539                                       V性推力杆  件   \n",
      "22 2021-03-21   NaN  川K72076                                          垫圈  只   \n",
      "23 2021-03-21   NaN  川K75588                                    汽车减震弹簧钢板  片   \n",
      "24 2021-03-21   NaN  川K75588                     潍柴专用柴机油 CH-4/20W-50/18L  升   \n",
      "25 2021-03-21   NaN  川K3A536  10W/40曼动发动机专用润滑油（4L/桶）\\nMQ9-11060-0803+012  升   \n",
      "26 2021-03-21   NaN  川K3A536                       柴10KG至尊统一车用尿素-蓝-到岸 尿素  升   \n",
      "27 2021-03-21   NaN  川K3A920                    潍柴专用柴机油 CI-4/20W-50/4L..  升   \n",
      "28 2021-03-21   NaN  川K3A920                       柴10KG至尊统一车用尿素-蓝-到岸 尿素  升   \n",
      "29 2021-03-21   NaN  川K61612                                          垫圈  只   \n",
      "30 2021-03-21   NaN  川K68812                                         张紧轮  个   \n",
      "31 2021-03-21   NaN  川K72268                       柴10KG至尊统一车用尿素-蓝-到岸 尿素  升   \n",
      "32 2021-03-21   NaN  川K75627                                     防冻液 4KG  桶   \n",
      "\n",
      "    数量       单价       金额  \n",
      "0    2   723.20  1446.40  \n",
      "1    2    16.95    33.90  \n",
      "2    2   226.00   452.00  \n",
      "3    1   293.80   293.80  \n",
      "4    2    16.95    33.90  \n",
      "5    3  2203.50  6610.50  \n",
      "6    1   169.50   169.50  \n",
      "7   20     4.52    90.40  \n",
      "8    4    39.55   158.20  \n",
      "9    1   293.80   293.80  \n",
      "10   1   146.90   146.90  \n",
      "11   1   101.70   101.70  \n",
      "12  10     4.52    45.20  \n",
      "13   1    16.95    16.95  \n",
      "14   2   226.00   452.00  \n",
      "15   1   101.70   101.70  \n",
      "16  24    22.60   542.40  \n",
      "17  10     4.52    45.20  \n",
      "18   1    16.95    16.95  \n",
      "19   1    16.95    16.95  \n",
      "20   1  8814.00  8814.00  \n",
      "21   1   723.20   723.20  \n",
      "22   1    16.95    16.95  \n",
      "23   2   226.00   452.00  \n",
      "24  18    22.60   406.80  \n",
      "25  24    56.50  1356.00  \n",
      "26  10     4.52    45.20  \n",
      "27   4    22.60    90.40  \n",
      "28  20     4.52    90.40  \n",
      "29   2    16.95    33.90  \n",
      "30   1   169.50   169.50  \n",
      "31  20     4.52    90.40  \n",
      "32   3    39.55   118.65  \n"
     ]
    }
   ],
   "source": [
    "df = pd.read_excel('铁马-出库明细 4月.xlsx')\n",
    "\n",
    "print(df)"
   ]
  },
  {
   "cell_type": "code",
   "execution_count": 24,
   "id": "5c31b3b7",
   "metadata": {},
   "outputs": [
    {
     "name": "stdout",
     "output_type": "stream",
     "text": [
      "日期\n",
      "单据编号\n",
      "车牌\n",
      "品名\n",
      "单位\n",
      "数量\n",
      "单价\n",
      "金额\n"
     ]
    }
   ],
   "source": [
    "files = getFiles()\n",
    "for file in files:\n",
    "    df = pd.read_excel(file)\n",
    "    for rows in df:\n",
    "        print(rows)"
   ]
  },
  {
   "cell_type": "code",
   "execution_count": 155,
   "id": "d5a04348",
   "metadata": {},
   "outputs": [
    {
     "name": "stdout",
     "output_type": "stream",
     "text": [
      "{'2021/20/03/川K3A465': 5, '2021/20/03/川K3A671': 5, '2021/20/03/川K61605': 1, '2021/20/03/川K67911': 2, '2021/20/03/川K72066': 2, '2021/20/03/川K75256': 1, '2021/20/03/川K3A530': 2, '2021/21/03/川K3A698': 2, '2021/21/03/川K61612': 2, '2021/21/03/川K68539': 1, '2021/21/03/川K72076': 1, '2021/21/03/川K75588': 2, '2021/21/03/川K3A536': 2, '2021/21/03/川K3A920': 2, '2021/21/03/川K68812': 1, '2021/21/03/川K72268': 1, '2021/21/03/川K75627': 1}\n"
     ]
    }
   ],
   "source": [
    "columns = df.columns.values.tolist() ### 获取excel 表头 ，第一行\n",
    "\n",
    "allData = {}\n",
    "allDataKeys = []\n",
    "counts = {}\n",
    "formatTime = \"%Y/%d/%m/\"\n",
    "duplicates = df.drop_duplicates(['日期','车牌'], keep='first')\n",
    "for idx, row in duplicates.iterrows():\n",
    "    time = row['日期'].strftime(formatTime)\n",
    "    row['日期'] = row['日期'].strftime(formatTime)\n",
    "    key = time + row['车牌']\n",
    "    allData[key] = np.array([])\n",
    "    allDataKeys.append(key)\n",
    "dropedDf = df.drop(columns=['日期','单据编号','车牌'], axis = 1)\n",
    "for idx, row in df.iterrows(): ### 迭代数据 以键值对的形式 获取 每行的数据\n",
    "    time = row['日期'].strftime(formatTime)\n",
    "    row['日期'] = row['日期'].strftime(formatTime)\n",
    "    key = time + row['车牌']\n",
    "    if len(allData[key]) > 0:\n",
    "        counts[key] += 1\n",
    "        allData[key] = np.append(allData[key], dropedDf.values[idx])\n",
    "    else:    \n",
    "        allData[key] = np.append(allData[key], df.values[idx])\n",
    "        counts[key] = 1\n",
    "print(counts)\n",
    "\n",
    "\n"
   ]
  },
  {
   "cell_type": "code",
   "execution_count": 123,
   "id": "44b2d7ea",
   "metadata": {},
   "outputs": [
    {
     "name": "stdout",
     "output_type": "stream",
     "text": [
      "5\n"
     ]
    }
   ],
   "source": [
    "new_colums = ['日期',\n",
    "'单据编号',\n",
    "'车牌',]\n",
    "base_columns = ['品名','单位','数量','单价','金额',]\n",
    "maxLen = 0\n",
    "for key, v in counts.items():\n",
    "    if v > maxLen:\n",
    "        maxLen = v\n",
    "print(maxLen)\n",
    "\n",
    "for i in range(maxLen):\n",
    "    for item in base_columns:\n",
    "        new_colums.append(item + str(i+1))\n",
    "\n"
   ]
  },
  {
   "cell_type": "code",
   "execution_count": 124,
   "id": "d056387c",
   "metadata": {},
   "outputs": [
    {
     "name": "stdout",
     "output_type": "stream",
     "text": [
      "Empty DataFrame\n",
      "Columns: [日期, 单据编号, 车牌, 品名1, 单位1, 数量1, 单价1, 金额1, 品名2, 单位2, 数量2, 单价2, 金额2, 品名3, 单位3, 数量3, 单价3, 金额3, 品名4, 单位4, 数量4, 单价4, 金额4, 品名5, 单位5, 数量5, 单价5, 金额5]\n",
      "Index: []\n",
      "\n",
      "[0 rows x 28 columns]\n"
     ]
    }
   ],
   "source": [
    "\n",
    "data = pd.DataFrame([], columns=new_colums)\n",
    "print(data)\n",
    "\n"
   ]
  },
  {
   "cell_type": "code",
   "execution_count": 158,
   "id": "3748ebea",
   "metadata": {},
   "outputs": [],
   "source": [
    "arr = []\n",
    "max_items_num = 0\n",
    "for k, v in allData.items():\n",
    "    newRow = np.array(v).flatten()\n",
    "    arr.append(newRow.tolist())\n",
    "#     print(len(newRow))\n",
    "#     array = np.append(array, newRow)\n",
    "#     data.append(newRow, ignore_index=True)\n",
    "\n",
    "# np.array([[1,2,3],[4,5,7]])\n",
    "data = pd.DataFrame(arr, columns=new_colums)\n",
    "data.fillna('').to_excel(\"output.xlsx\") \n",
    "# data\n",
    "# len(new_colums)\n",
    "# print(data, array)\n",
    "# print(array)\n",
    "# data"
   ]
  },
  {
   "cell_type": "code",
   "execution_count": null,
   "id": "adc0ca37",
   "metadata": {},
   "outputs": [],
   "source": []
  }
 ],
 "metadata": {
  "kernelspec": {
   "display_name": "Python 3 (ipykernel)",
   "language": "python",
   "name": "python3"
  },
  "language_info": {
   "codemirror_mode": {
    "name": "ipython",
    "version": 3
   },
   "file_extension": ".py",
   "mimetype": "text/x-python",
   "name": "python",
   "nbconvert_exporter": "python",
   "pygments_lexer": "ipython3",
   "version": "3.9.13"
  }
 },
 "nbformat": 4,
 "nbformat_minor": 5
}
